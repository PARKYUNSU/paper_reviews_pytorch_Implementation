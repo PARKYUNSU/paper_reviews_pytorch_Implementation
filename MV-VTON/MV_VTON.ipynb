{
  "cells": [
    {
      "cell_type": "code",
      "execution_count": 1,
      "metadata": {
        "colab": {
          "base_uri": "https://localhost:8080/"
        },
        "id": "WwswOe7SZ_44",
        "outputId": "d23fb77a-db3a-4569-cb61-8b586ad5ca4b"
      },
      "outputs": [
        {
          "name": "stdout",
          "output_type": "stream",
          "text": [
            "Cloning into 'MV-VTON'...\n",
            "remote: Enumerating objects: 307, done.\u001b[K\n",
            "remote: Counting objects: 100% (307/307), done.\u001b[K\n",
            "remote: Compressing objects: 100% (212/212), done.\u001b[K\n",
            "remote: Total 307 (delta 123), reused 254 (delta 89), pack-reused 0 (from 0)\u001b[K\n",
            "Receiving objects: 100% (307/307), 1.32 MiB | 4.16 MiB/s, done.\n",
            "Resolving deltas: 100% (123/123), done.\n"
          ]
        }
      ],
      "source": [
        "!git clone https://github.com/hywang2002/MV-VTON"
      ]
    },
    {
      "cell_type": "code",
      "execution_count": 18,
      "metadata": {
        "colab": {
          "base_uri": "https://localhost:8080/"
        },
        "id": "u0N8gINPaORT",
        "outputId": "ff9178ff-a84a-4221-a891-9a3abcdbbeab"
      },
      "outputs": [
        {
          "name": "stdout",
          "output_type": "stream",
          "text": [
            "/content/MV-VTON\n"
          ]
        }
      ],
      "source": [
        "import os\n",
        "\n",
        "# 디렉토리 변경\n",
        "os.chdir('/content/MV-VTON')\n",
        "\n",
        "# 현재 디렉토리 확인\n",
        "print(os.getcwd())"
      ]
    },
    {
      "cell_type": "code",
      "execution_count": 19,
      "metadata": {
        "colab": {
          "base_uri": "https://localhost:8080/",
          "height": 36
        },
        "id": "D8onswxNbzcd",
        "outputId": "a8713d5c-7898-4715-d6b7-d5bef195900d"
      },
      "outputs": [
        {
          "data": {
            "application/vnd.google.colaboratory.intrinsic+json": {
              "type": "string"
            },
            "text/plain": [
              "'/content/MV-VTON'"
            ]
          },
          "execution_count": 19,
          "metadata": {},
          "output_type": "execute_result"
        }
      ],
      "source": [
        "pwd"
      ]
    },
    {
      "cell_type": "code",
      "execution_count": 5,
      "metadata": {
        "colab": {
          "base_uri": "https://localhost:8080/"
        },
        "id": "pJnv3DedaSAL",
        "outputId": "c24d6292-cdf1-4d29-b9e3-f781b15f5bb8"
      },
      "outputs": [
        {
          "name": "stdout",
          "output_type": "stream",
          "text": [
            "pip install absl-py==2.0.0 aiohttp==3.9.1 aiosignal==1.3.1 albumentations==0.4.3 altair==5.2.0 antlr4-python3-runtime==4.9.3 async-timeout==4.0.3 attrs==23.1.0 av==12.0.0 backports-zoneinfo==0.2.1 bezier==2023.7.28 black==24.2.0 blinker==1.7.0 cachetools==5.3.2 click==8.1.7 clip==0.2.0 cloudpickle==3.0.0 contourpy==1.1.1 cupy==12.3.0 cycler==0.12.1 diffusers==0.20.0 einops==0.3.0 fastrlock==0.8.2 filelock==3.13.1 fonttools==4.45.1 frozenlist==1.4.0 fsspec==2023.10.0 future==0.18.3 fvcore==0.1.5.post20221221 gitdb==4.0.11 gitpython==3.1.40 google-auth==2.23.4 google-auth-oauthlib==1.0.0 grpcio==1.59.3 huggingface-hub==0.19.4 hydra-core==1.3.2 imageio==2.9.0 imageio-ffmpeg==0.4.2 imgaug==0.2.6 importlib-metadata==6.8.0 importlib-resources==6.1.1 invisible-watermark==0.2.0 iopath==0.1.9 jinja2==3.1.2 jsonschema==4.20.0 jsonschema-specifications==2023.11.1 kiwisolver==1.4.5 kornia==0.6.0 lazy-loader==0.3 markdown==3.5.1 markdown-it-py==3.0.0 markupsafe==2.1.3 matplotlib==3.7.4 mdurl==0.1.2 multidict==6.0.4 mypy-extensions==1.0.0 networkx==3.1 numpy==1.24.4 oauthlib==3.2.2 omegaconf==2.3.0 opencv-python==4.1.2.30 opencv-python-headless==4.8.1.78 packaging==23.2 pandas==2.0.3 pathspec==0.12.1 pkgutil-resolve-name==1.3.10 platformdirs==4.2.0 portalocker==2.8.2 protobuf==4.25.1 pudb==2019.2 pyarrow==14.0.1 pyasn1==0.5.1 pyasn1-modules==0.3.0 pycocotools==2.0.7 pydeck==0.8.1b0 pydeprecate==0.3.1 pygments==2.17.2 pyparsing==3.1.1 python-dateutil==2.8.2 pytorch-lightning==1.4.2 pytz==2023.3.post1 pywavelets==1.4.1 pyyaml==6.0.1 referencing==0.31.1 regex==2023.10.3 requests-oauthlib==1.3.1 rich==13.7.0 rpds-py==0.13.2 rsa==4.9 safetensors==0.4.1 scikit-image==0.20.0 scipy==1.9.1 smmap==5.0.1 streamlit==1.28.2 tabulate==0.9.0 taming-transformers==0.0.1 tenacity==8.2.3 tensorboard==2.14.0 tensorboard-data-server==0.7.2 termcolor==2.4.0 test-tube==0.7.5 tifffile==2023.7.10 tokenizers==0.12.1 toml==0.10.2 tomli==2.0.1 toolz==0.12.0 torch-fidelity==0.3.0 torchmetrics==0.6.0 tornado==6.4 tqdm==4.66.1 transformers==4.27.3 tzdata==2023.3 tzlocal==5.2 urwid==2.2.3 validators==0.22.0 watchdog==3.0.0 werkzeug==3.0.1 yacs==0.1.8 yarl==1.9.3 zipp==3.17.0\n"
          ]
        },
        {
          "data": {
            "text/plain": [
              "256"
            ]
          },
          "execution_count": 5,
          "metadata": {},
          "output_type": "execute_result"
        }
      ],
      "source": [
        "import yaml\n",
        "\n",
        "# environment.yaml 파일 경로 지정\n",
        "yaml_path = \"/content/MV-VTON/environment.yaml\"\n",
        "\n",
        "# YAML 파일 읽기\n",
        "with open(yaml_path, 'r') as f:\n",
        "    env_yaml = yaml.safe_load(f)\n",
        "\n",
        "# pip dependencies 추출\n",
        "pip_packages = []\n",
        "for dep in env_yaml.get('dependencies', []):\n",
        "    if isinstance(dep, dict) and \"pip\" in dep:\n",
        "        pip_packages.extend(dep[\"pip\"])\n",
        "\n",
        "# pip install 명령어 출력\n",
        "print(\"pip install \" + \" \".join(pip_packages))\n",
        "\n",
        "# pip 설치 실행\n",
        "import os\n",
        "os.system(f\"pip install {' '.join(pip_packages)}\")\n"
      ]
    },
    {
      "cell_type": "code",
      "execution_count": 23,
      "metadata": {
        "colab": {
          "base_uri": "https://localhost:8080/",
          "height": 214
        },
        "id": "ou4gAA43Z1AQ",
        "outputId": "68cf313c-94aa-4fab-d7ab-c75e7e07dfb1"
      },
      "outputs": [
        {
          "name": "stderr",
          "output_type": "stream",
          "text": [
            "Downloading...\n",
            "From (original): https://drive.google.com/uc?id=1rvow8jStPt8t2prDcSRlnf8yzXhrYeGo\n",
            "From (redirected): https://drive.google.com/uc?id=1rvow8jStPt8t2prDcSRlnf8yzXhrYeGo&confirm=t&uuid=ee48a67e-00a0-44c6-a61b-4f1af62ea858\n",
            "To: /content/MV-VTON/models/vgg/vgg19_conv.pth\n",
            "100%|██████████| 160M/160M [00:01<00:00, 138MB/s]\n",
            "Downloading...\n",
            "From (original): https://drive.google.com/uc?id=1rvow8jStPt8t2prDcSRlnf8yzXhrYeGo\n",
            "From (redirected): https://drive.google.com/uc?id=1rvow8jStPt8t2prDcSRlnf8yzXhrYeGo&confirm=t&uuid=eb7bbd57-3460-4c78-ba5e-23d484f9ce1b\n",
            "To: /content/MV-VTON/Frontal-View VTON/models/vgg/vgg19_conv.pth\n",
            "100%|██████████| 160M/160M [00:01<00:00, 103MB/s] \n"
          ]
        },
        {
          "data": {
            "application/vnd.google.colaboratory.intrinsic+json": {
              "type": "string"
            },
            "text/plain": [
              "'/content/MV-VTON/Frontal-View VTON/models/vgg/vgg19_conv.pth'"
            ]
          },
          "execution_count": 23,
          "metadata": {},
          "output_type": "execute_result"
        }
      ],
      "source": [
        "import gdown\n",
        "import os\n",
        "\n",
        "# 파일 ID 설정\n",
        "file_id = \"1rvow8jStPt8t2prDcSRlnf8yzXhrYeGo\"\n",
        "url = f\"https://drive.google.com/uc?id={file_id}\"\n",
        "\n",
        "# 첫 번째 경로\n",
        "output_path1 = \"/content/MV-VTON/models/vgg/\"\n",
        "\n",
        "# 두 번째 경로\n",
        "output_path2 = \"/content/MV-VTON/Frontal-View VTON/models/vgg/\"\n",
        "\n",
        "# 디렉토리가 없으면 생성\n",
        "os.makedirs(os.path.dirname(output_path1), exist_ok=True)\n",
        "os.makedirs(os.path.dirname(output_path2), exist_ok=True)\n",
        "\n",
        "# 첫 번째 경로에 다운로드\n",
        "gdown.download(url, output_path1, quiet=False)\n",
        "\n",
        "# 두 번째 경로에 다운로드\n",
        "gdown.download(url, output_path2, quiet=False)"
      ]
    },
    {
      "cell_type": "code",
      "execution_count": 21,
      "metadata": {
        "colab": {
          "base_uri": "https://localhost:8080/",
          "height": 125
        },
        "id": "4KoUBVEvbnZc",
        "outputId": "8277fb92-71ab-4705-bbad-617f0dcfa3fa"
      },
      "outputs": [
        {
          "name": "stderr",
          "output_type": "stream",
          "text": [
            "Downloading...\n",
            "From (original): https://drive.google.com/uc?id=1J91PoT8A9yqHWNxkgRe6ZCnDEhN-H9O6\n",
            "From (redirected): https://drive.google.com/uc?id=1J91PoT8A9yqHWNxkgRe6ZCnDEhN-H9O6&confirm=t&uuid=e5b06025-54e4-48c0-9ac6-e6386ce8d815\n",
            "To: /content/MV-VTON/checkpoint/mvg.ckpt\n",
            "100%|██████████| 7.26G/7.26G [03:04<00:00, 39.4MB/s]\n"
          ]
        },
        {
          "data": {
            "application/vnd.google.colaboratory.intrinsic+json": {
              "type": "string"
            },
            "text/plain": [
              "'/content/MV-VTON/checkpoint/mvg.ckpt'"
            ]
          },
          "execution_count": 21,
          "metadata": {},
          "output_type": "execute_result"
        }
      ],
      "source": [
        "# 다운로드할 Google Drive 파일 ID\n",
        "file_id = \"1J91PoT8A9yqHWNxkgRe6ZCnDEhN-H9O6\"\n",
        "url = f\"https://drive.google.com/uc?id={file_id}\"\n",
        "\n",
        "# 다운로드 경로\n",
        "download_path = \"/content/MV-VTON/checkpoint/mvg.ckpt\"\n",
        "os.makedirs(os.path.dirname(download_path), exist_ok=True)\n",
        "\n",
        "# 파일 다운로드\n",
        "gdown.download(url, download_path, quiet=False)"
      ]
    },
    {
      "cell_type": "code",
      "execution_count": 22,
      "metadata": {
        "colab": {
          "base_uri": "https://localhost:8080/",
          "height": 125
        },
        "id": "I2MN1TpTdmhn",
        "outputId": "d1ea8d7a-c632-476e-9da1-4a5a8c4473bc"
      },
      "outputs": [
        {
          "name": "stderr",
          "output_type": "stream",
          "text": [
            "Downloading...\n",
            "From (original): https://drive.google.com/uc?id=13A0uzUY6PuvitLOqzyHzWASOh0dNXdem\n",
            "From (redirected): https://drive.google.com/uc?id=13A0uzUY6PuvitLOqzyHzWASOh0dNXdem&confirm=t&uuid=87df7425-59f9-43c0-8dd6-16d5208236f6\n",
            "To: /content/MV-VTON/Frontal-View VTON/checkpoint/vitonhd.ckpt\n",
            "100%|██████████| 12.8G/12.8G [06:20<00:00, 33.6MB/s]\n"
          ]
        },
        {
          "data": {
            "application/vnd.google.colaboratory.intrinsic+json": {
              "type": "string"
            },
            "text/plain": [
              "'/content/MV-VTON/Frontal-View VTON/checkpoint/vitonhd.ckpt'"
            ]
          },
          "execution_count": 22,
          "metadata": {},
          "output_type": "execute_result"
        }
      ],
      "source": [
        "import gdown\n",
        "import os\n",
        "\n",
        "# 다운로드할 Google Drive 파일 ID\n",
        "file_id = \"13A0uzUY6PuvitLOqzyHzWASOh0dNXdem\"\n",
        "url = f\"https://drive.google.com/uc?id={file_id}\"\n",
        "\n",
        "# 다운로드 경로\n",
        "download_path = \"/content/MV-VTON/Frontal-View VTON/checkpoint/vitonhd.ckpt\"\n",
        "\n",
        "os.makedirs(os.path.dirname(download_path), exist_ok=True)\n",
        "\n",
        "# 파일 다운로드\n",
        "gdown.download(url, download_path, quiet=False)"
      ]
    }
  ],
  "metadata": {
    "colab": {
      "provenance": []
    },
    "kernelspec": {
      "display_name": "Python 3",
      "name": "python3"
    },
    "language_info": {
      "name": "python"
    }
  },
  "nbformat": 4,
  "nbformat_minor": 0
}
